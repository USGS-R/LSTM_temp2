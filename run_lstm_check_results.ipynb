{
 "cells": [
  {
   "cell_type": "code",
   "execution_count": 3,
   "id": "d79adf44-a6a3-4c29-b342-d4a61b9a971d",
   "metadata": {
    "tags": []
   },
   "outputs": [
    {
     "name": "stdout",
     "output_type": "stream",
     "text": [
      "optData:  OrderedDict([('name', 'hydroDL.data.camels.DataframeCamels'), ('subset', 'All'), ('varT', ['dayl(s)', 'prcp(mm/day)', 'srad(W/m2)', 'tmax(C)', 'tmin(C)', 'vp(Pa)', '00060_Mean']), ('varC', ['DRAIN_SQKM', 'STREAMS_KM_SQ_KM', 'STOR_NID_2009', 'FORESTNLCD06', 'PLANTNLCD06', 'SLOPE_PCT', 'RAW_DIS_NEAREST_MAJ_DAM', 'PERDUN', 'RAW_DIS_NEAREST_DAM', 'RAW_AVG_DIS_ALL_MAJ_DAMS', 'T_MIN_BASIN', 'T_MINSTD_BASIN', 'RH_BASIN', 'RAW_AVG_DIS_ALLDAMS', 'PPTAVG_BASIN', 'HIRES_LENTIC_PCT', 'T_AVG_BASIN', 'T_MAX_BASIN', 'T_MAXSTD_BASIN', 'NDAMS_2009', 'ELEV_MEAN_M_BASIN']), ('target', ['S', 't', 'r', 'e', 'a', 'm', 'T', 'e', 'm', 'p']), ('tRange', [20101001, 20141001]), ('doNorm', [True, True]), ('rmNan', [True, False]), ('daObs', 0), ('damean', False), ('davar', 'streamflow'), ('dameanopt', 0), ('lckernel', None), ('fdcopt', False)])\n",
      "TempTarget:  00010_Mean\n",
      "forcing_path:  /caldera/projects/usgs/water/iidd/datasci/psu/LSTM_temp2/input/forcing/forcing_99%_days_99sites_newv1.feather\n",
      "attr_path:  /caldera/projects/usgs/water/iidd/datasci/psu/LSTM_temp2/input/attr/attr_temp99%_days_99sites_newv1.feather\n"
     ]
    },
    {
     "ename": "FileNotFoundError",
     "evalue": "[Errno 2] No such file or directory: '/caldera/projects/usgs/water/iidd/datasci/psu/LSTM_temp2/input/forcing/forcing_99%_days_99sites_newv1.feather'",
     "output_type": "error",
     "traceback": [
      "\u001b[0;31m---------------------------------------------------------------------------\u001b[0m",
      "\u001b[0;31mFileNotFoundError\u001b[0m                         Traceback (most recent call last)",
      "\u001b[0;32m/caldera/projects/usgs/water/iidd/datasci/psu/LSTM_temp2/StreamTemp-Integ.py\u001b[0m in \u001b[0;36m<module>\u001b[0;34m\u001b[0m\n\u001b[1;32m    168\u001b[0m \u001b[0;34m\u001b[0m\u001b[0m\n\u001b[1;32m    169\u001b[0m                 \u001b[0;31m# load data\u001b[0m\u001b[0;34m\u001b[0m\u001b[0;34m\u001b[0m\u001b[0;34m\u001b[0m\u001b[0m\n\u001b[0;32m--> 170\u001b[0;31m                 \u001b[0mdf\u001b[0m\u001b[0;34m,\u001b[0m \u001b[0mx\u001b[0m\u001b[0;34m,\u001b[0m \u001b[0my\u001b[0m\u001b[0;34m,\u001b[0m \u001b[0mc\u001b[0m \u001b[0;34m=\u001b[0m \u001b[0mmaster\u001b[0m\u001b[0;34m.\u001b[0m\u001b[0mloadData\u001b[0m\u001b[0;34m(\u001b[0m\u001b[0moptData\u001b[0m\u001b[0;34m,\u001b[0m \u001b[0mTempTarget\u001b[0m\u001b[0;34m,\u001b[0m \u001b[0mforcing_path\u001b[0m\u001b[0;34m,\u001b[0m \u001b[0mattr_path\u001b[0m\u001b[0;34m,\u001b[0m \u001b[0mout\u001b[0m\u001b[0;34m)\u001b[0m  \u001b[0;31m# df: CAMELS dataframe; x: forcings; y: streamflow obs; c:attributes\u001b[0m\u001b[0;34m\u001b[0m\u001b[0;34m\u001b[0m\u001b[0m\n\u001b[0m\u001b[1;32m    171\u001b[0m                 \u001b[0;31m# main outputs of this step are numpy ndArrays: x[nb,nt,nx], y[nb,nt, ny], c[nb,nc]\u001b[0m\u001b[0;34m\u001b[0m\u001b[0;34m\u001b[0m\u001b[0;34m\u001b[0m\u001b[0m\n\u001b[1;32m    172\u001b[0m                 \u001b[0;31m# nb: number of basins, nt: number of time steps (in Ttrain), nx: number of time-dependent forcing variables\u001b[0m\u001b[0;34m\u001b[0m\u001b[0;34m\u001b[0m\u001b[0;34m\u001b[0m\u001b[0m\n",
      "\u001b[0;32m/caldera/projects/usgs/water/iidd/datasci/psu/LSTM_temp2/hydroDL/master/master.py\u001b[0m in \u001b[0;36mloadData\u001b[0;34m(optData, TempTarget, forcing_path, attr_path, out, readX, readY)\u001b[0m\n\u001b[1;32m    184\u001b[0m             \u001b[0mvarLst\u001b[0m\u001b[0;34m=\u001b[0m\u001b[0moptData\u001b[0m\u001b[0;34m[\u001b[0m\u001b[0;34m'varT'\u001b[0m\u001b[0;34m]\u001b[0m\u001b[0;34m,\u001b[0m\u001b[0;34m\u001b[0m\u001b[0;34m\u001b[0m\u001b[0m\n\u001b[1;32m    185\u001b[0m             \u001b[0mdoNorm\u001b[0m\u001b[0;34m=\u001b[0m\u001b[0moptData\u001b[0m\u001b[0;34m[\u001b[0m\u001b[0;34m'doNorm'\u001b[0m\u001b[0;34m]\u001b[0m\u001b[0;34m[\u001b[0m\u001b[0;36m0\u001b[0m\u001b[0;34m]\u001b[0m\u001b[0;34m,\u001b[0m\u001b[0;34m\u001b[0m\u001b[0;34m\u001b[0m\u001b[0m\n\u001b[0;32m--> 186\u001b[0;31m             rmNan=optData['rmNan'][0])\n\u001b[0m\u001b[1;32m    187\u001b[0m         y = df.getDataObs(TempTarget, forcing_path, attr_path,\n\u001b[1;32m    188\u001b[0m             doNorm=optData['doNorm'][1] , rmNan=optData['rmNan'][1])    # doNorm=optData['doNorm'][1]     optData['rmNan'][1]\n",
      "\u001b[0;32m/caldera/projects/usgs/water/iidd/datasci/psu/LSTM_temp2/hydroDL/data/camels.py\u001b[0m in \u001b[0;36mgetDataTs\u001b[0;34m(self, forcing_path, attr_path, out, varLst, doNorm, rmNan)\u001b[0m\n\u001b[1;32m    504\u001b[0m         \u001b[0;31m# read ts forcing\u001b[0m\u001b[0;34m\u001b[0m\u001b[0;34m\u001b[0m\u001b[0;34m\u001b[0m\u001b[0m\n\u001b[1;32m    505\u001b[0m         \u001b[0minputfiles\u001b[0m \u001b[0;34m=\u001b[0m \u001b[0mos\u001b[0m\u001b[0;34m.\u001b[0m\u001b[0mpath\u001b[0m\u001b[0;34m.\u001b[0m\u001b[0mjoin\u001b[0m\u001b[0;34m(\u001b[0m\u001b[0mforcing_path\u001b[0m\u001b[0;34m)\u001b[0m   \u001b[0;31m#   forcing_350days_T_S_GAGESII\u001b[0m\u001b[0;34m\u001b[0m\u001b[0;34m\u001b[0m\u001b[0m\n\u001b[0;32m--> 506\u001b[0;31m         \u001b[0mdfMain\u001b[0m \u001b[0;34m=\u001b[0m \u001b[0mpd\u001b[0m\u001b[0;34m.\u001b[0m\u001b[0mread_feather\u001b[0m\u001b[0;34m(\u001b[0m\u001b[0minputfiles\u001b[0m\u001b[0;34m)\u001b[0m\u001b[0;34m\u001b[0m\u001b[0;34m\u001b[0m\u001b[0m\n\u001b[0m\u001b[1;32m    507\u001b[0m         \u001b[0minputfiles\u001b[0m \u001b[0;34m=\u001b[0m \u001b[0mos\u001b[0m\u001b[0;34m.\u001b[0m\u001b[0mpath\u001b[0m\u001b[0;34m.\u001b[0m\u001b[0mjoin\u001b[0m\u001b[0;34m(\u001b[0m\u001b[0mattr_path\u001b[0m\u001b[0;34m)\u001b[0m       \u001b[0;31m#   attr_350days_T_S_GAGESII\u001b[0m\u001b[0;34m\u001b[0m\u001b[0;34m\u001b[0m\u001b[0m\n\u001b[1;32m    508\u001b[0m         \u001b[0mdfC\u001b[0m \u001b[0;34m=\u001b[0m \u001b[0mpd\u001b[0m\u001b[0;34m.\u001b[0m\u001b[0mread_feather\u001b[0m\u001b[0;34m(\u001b[0m\u001b[0minputfiles\u001b[0m\u001b[0;34m)\u001b[0m\u001b[0;34m\u001b[0m\u001b[0;34m\u001b[0m\u001b[0m\n",
      "\u001b[0;32m~/miniconda3/envs/lstm_resdag/lib/python3.7/site-packages/pandas/io/feather_format.py\u001b[0m in \u001b[0;36mread_feather\u001b[0;34m(path, columns, use_threads, storage_options)\u001b[0m\n\u001b[1;32m    122\u001b[0m \u001b[0;34m\u001b[0m\u001b[0m\n\u001b[1;32m    123\u001b[0m     with get_handle(\n\u001b[0;32m--> 124\u001b[0;31m         \u001b[0mpath\u001b[0m\u001b[0;34m,\u001b[0m \u001b[0;34m\"rb\"\u001b[0m\u001b[0;34m,\u001b[0m \u001b[0mstorage_options\u001b[0m\u001b[0;34m=\u001b[0m\u001b[0mstorage_options\u001b[0m\u001b[0;34m,\u001b[0m \u001b[0mis_text\u001b[0m\u001b[0;34m=\u001b[0m\u001b[0;32mFalse\u001b[0m\u001b[0;34m\u001b[0m\u001b[0;34m\u001b[0m\u001b[0m\n\u001b[0m\u001b[1;32m    125\u001b[0m     ) as handles:\n\u001b[1;32m    126\u001b[0m \u001b[0;34m\u001b[0m\u001b[0m\n",
      "\u001b[0;32m~/miniconda3/envs/lstm_resdag/lib/python3.7/site-packages/pandas/io/common.py\u001b[0m in \u001b[0;36mget_handle\u001b[0;34m(path_or_buf, mode, encoding, compression, memory_map, is_text, errors, storage_options)\u001b[0m\n\u001b[1;32m    649\u001b[0m         \u001b[0;32melse\u001b[0m\u001b[0;34m:\u001b[0m\u001b[0;34m\u001b[0m\u001b[0;34m\u001b[0m\u001b[0m\n\u001b[1;32m    650\u001b[0m             \u001b[0;31m# Binary mode\u001b[0m\u001b[0;34m\u001b[0m\u001b[0;34m\u001b[0m\u001b[0;34m\u001b[0m\u001b[0m\n\u001b[0;32m--> 651\u001b[0;31m             \u001b[0mhandle\u001b[0m \u001b[0;34m=\u001b[0m \u001b[0mopen\u001b[0m\u001b[0;34m(\u001b[0m\u001b[0mhandle\u001b[0m\u001b[0;34m,\u001b[0m \u001b[0mioargs\u001b[0m\u001b[0;34m.\u001b[0m\u001b[0mmode\u001b[0m\u001b[0;34m)\u001b[0m\u001b[0;34m\u001b[0m\u001b[0;34m\u001b[0m\u001b[0m\n\u001b[0m\u001b[1;32m    652\u001b[0m         \u001b[0mhandles\u001b[0m\u001b[0;34m.\u001b[0m\u001b[0mappend\u001b[0m\u001b[0;34m(\u001b[0m\u001b[0mhandle\u001b[0m\u001b[0;34m)\u001b[0m\u001b[0;34m\u001b[0m\u001b[0;34m\u001b[0m\u001b[0m\n\u001b[1;32m    653\u001b[0m \u001b[0;34m\u001b[0m\u001b[0m\n",
      "\u001b[0;31mFileNotFoundError\u001b[0m: [Errno 2] No such file or directory: '/caldera/projects/usgs/water/iidd/datasci/psu/LSTM_temp2/input/forcing/forcing_99%_days_99sites_newv1.feather'"
     ]
    }
   ],
   "source": [
    "%run 'StreamTemp-Integ.py'"
   ]
  },
  {
   "cell_type": "code",
   "execution_count": null,
   "id": "4af978ca-0f79-4ee5-a2e9-abcc2d952c6d",
   "metadata": {
    "tags": []
   },
   "outputs": [],
   "source": [
    "#try to recreate basinnorm.json\n",
    "from hydroDL.data import camels\n",
    "\n",
    "#forcing_data = pd.read_feather(forcing_path)\n",
    "#print(forcing_data.__class__)\n",
    "#print(forcing_data['site_no'].unique())\n",
    "calStatAll()"
   ]
  },
  {
   "cell_type": "code",
   "execution_count": null,
   "id": "50d32169-0bf2-47b8-903a-aa3a281d3269",
   "metadata": {},
   "outputs": [],
   "source": [
    "import torch\n",
    "torch.cuda.is_available()"
   ]
  },
  {
   "cell_type": "markdown",
   "id": "4f41e98a-0e1c-464c-8c03-f2feda1f2825",
   "metadata": {},
   "source": [
    "### Checking model outputs\n",
    "Need to join on site_no column from attributes file for each set of outputs\n",
    "Then can compare proper 99 rows from data release"
   ]
  },
  {
   "cell_type": "code",
   "execution_count": null,
   "id": "1c71d7e0-25f0-4f96-a592-73fa2b20b039",
   "metadata": {},
   "outputs": [],
   "source": [
    "import os\n",
    "import numpy as np\n",
    "import pandas as pd\n",
    "import matplotlib.pyplot as plt\n",
    "\n",
    "data_release_pred = np.load('../rahmani-resdag-data-release/in_data/Results/99_10/pred_2000_50_365_70_2014_2016_ens.npy')[:,:,0]\n",
    "data_release_pred.shape"
   ]
  },
  {
   "cell_type": "code",
   "execution_count": null,
   "id": "8b6a2b84-9c7f-47f6-9d68-d69f90cb282e",
   "metadata": {},
   "outputs": [],
   "source": [
    "#vector of input files\n",
    "initialization_preds = ['TempDemo/FirstRun/epochs2000_batch47_rho365_hiddensize100_Tstart20101001_Tend20141001_1/All-2010-2016/pred.npy',\n",
    "                       'TempDemo/FirstRun/epochs2000_batch47_rho365_hiddensize100_Tstart20101001_Tend20141001_2/All-2010-2016/pred.npy',\n",
    "                       'TempDemo/FirstRun/epochs2000_batch47_rho365_hiddensize100_Tstart20101001_Tend20141001_3/All-2010-2016/pred.npy',\n",
    "                       'TempDemo/FirstRun/epochs2000_batch47_rho365_hiddensize100_Tstart20101001_Tend20141001_4/All-2010-2016/pred.npy',\n",
    "                       'TempDemo/FirstRun/epochs2000_batch47_rho365_hiddensize100_Tstart20101001_Tend20141001_5/All-2010-2016/pred.npy',\n",
    "                       'TempDemo/FirstRun/epochs2000_batch47_rho365_hiddensize100_Tstart20101001_Tend20141001_6/All-2010-2016/pred.npy']\n",
    "\n",
    "#use length of vector to assign each to an array index\n",
    "def load_initializations(files):\n",
    "    init_array = []\n",
    "    for i in range(len(files)):\n",
    "        print(files[i])\n",
    "        init_array.append(np.load(files[i])[:,:,0])\n",
    "    return(init_array)\n",
    "        \n",
    "init_array = load_initializations(initialization_preds)\n",
    "len(init_array)"
   ]
  },
  {
   "cell_type": "code",
   "execution_count": null,
   "id": "fcaeb1a4-2e2e-4464-9e7f-710c4c3e6c60",
   "metadata": {
    "tags": []
   },
   "outputs": [],
   "source": [
    "init_means = np.mean(init_array, axis = 0)\n",
    "init_means.shape"
   ]
  },
  {
   "cell_type": "code",
   "execution_count": null,
   "id": "a712f4d1-f9f1-4cda-b474-96b82350565d",
   "metadata": {},
   "outputs": [],
   "source": [
    "this_run_pred = np.load('TempDemo/FirstRun/epochs2000_batch47_rho365_hiddensize100_Tstart20101001_Tend20141001_1/All-2010-2016/pred.npy')[:,:,0]\n",
    "this_run_pred2 = np.load('TempDemo/FirstRun/epochs2000_batch47_rho365_hiddensize100_Tstart20101001_Tend20141001_2/All-2010-2016/pred.npy')[:,:,0]\n",
    "this_run_pred_mean = np.mean([this_run_pred, this_run_pred2], axis = 0)\n",
    "this_run_pred_mean.shape"
   ]
  },
  {
   "cell_type": "code",
   "execution_count": null,
   "id": "a925c808-e993-44f0-a132-019c31f4e0f6",
   "metadata": {},
   "outputs": [],
   "source": [
    "attr = pd.read_feather('scratch/SNTemp/Forcing/attr_new/attr_temp99%_days_99sites_newv1.feather')\n",
    "attr_data_release = pd.read_feather('../rahmani-resdag-data-release/in_data/Forcings_attr/attr_temp10__days_415sites.feather')\n",
    "data_release_rows = attr_data_release['site_no'].isin(attr['site_no'])"
   ]
  },
  {
   "cell_type": "code",
   "execution_count": null,
   "id": "5ebecdba-aa85-45f7-962e-4aa7c87bf6f1",
   "metadata": {},
   "outputs": [],
   "source": [
    "data_release_pred_filtered = data_release_pred[data_release_rows, :]\n",
    "plt.matshow(data_release_pred_filtered)\n",
    "plt.colorbar()\n",
    "plt.show()"
   ]
  },
  {
   "cell_type": "code",
   "execution_count": null,
   "id": "7cfcbf15-ddfa-4911-8f11-d7c56b52e534",
   "metadata": {},
   "outputs": [],
   "source": [
    "#compare predictions\n",
    "this_run_pred_mean.shape\n",
    "plt.matshow(this_run_pred_mean)\n",
    "plt.colorbar()\n",
    "plt.show()"
   ]
  },
  {
   "cell_type": "code",
   "execution_count": null,
   "id": "ef2bcd73-31b3-4f3f-8104-5a5cf092cd25",
   "metadata": {},
   "outputs": [],
   "source": [
    "diff = this_run_pred_mean - data_release_pred_filtered\n",
    "diff.shape\n",
    "plt.matshow(diff)\n",
    "plt.colorbar()\n",
    "plt.show()"
   ]
  },
  {
   "cell_type": "code",
   "execution_count": null,
   "id": "c4a2db33-f49c-4a94-bcfa-072c9c041620",
   "metadata": {},
   "outputs": [],
   "source": [
    "np.sqrt(np.mean(diff ** 2))"
   ]
  },
  {
   "cell_type": "code",
   "execution_count": null,
   "id": "1ba842cb-e169-43d9-9f56-12bdb5b2d54e",
   "metadata": {},
   "outputs": [],
   "source": [
    "#what is difference between random initializations?\n",
    "diff_inits = init_array[5] - init_array[1]\n",
    "diff.shape\n",
    "plt.matshow(diff_inits)\n",
    "plt.colorbar()\n",
    "plt.show()\n",
    "np.sqrt(np.mean(diff_inits ** 2))"
   ]
  },
  {
   "cell_type": "code",
   "execution_count": null,
   "id": "605a94f7-1126-48f1-87d7-30615138c34c",
   "metadata": {},
   "outputs": [],
   "source": [
    "#get range of diffs across initializations\n",
    "for init in init_array:\n",
    "    diff = init - init_array[5] #or swap in data_release_pred_filtered to compare to data release\n",
    "    print(np.sqrt(np.mean(diff ** 2)))"
   ]
  },
  {
   "cell_type": "code",
   "execution_count": null,
   "id": "30830717-a67f-46eb-9c84-8ce350f834c8",
   "metadata": {},
   "outputs": [],
   "source": [
    "#Is there any bias relative to data release?\n",
    "for init in init_array:\n",
    "    diff = init - data_release_pred_filtered #or swap in data_release_pred_filtered to compare to data release\n",
    "    print(np.mean(diff))"
   ]
  },
  {
   "cell_type": "code",
   "execution_count": null,
   "id": "87d0243c-ae87-4317-8e9b-7e5672f78263",
   "metadata": {},
   "outputs": [],
   "source": [
    "#what are RMSE compared to observations?\n",
    "obs = np.load('TempDemo/FirstRun/epochs2000_batch47_rho365_hiddensize100_Tstart20101001_Tend20141001_1/All-2010-2016/obs.npy')[:,:,0]\n",
    "obs.shape\n",
    "for init in init_array:\n",
    "    diff = init - obs #or swap in data_release_pred_filtered to compare to data release\n",
    "    print(np.sqrt(np.nanmean(diff ** 2)))\n",
    "\n",
    "print(\"RMSE of mean of 6:\")\n",
    "diff_obs_mean = np.mean(init_array, axis = 0) - obs\n",
    "print(np.sqrt(np.nanmean(diff_obs_mean ** 2)))\n",
    "print(\"RMSE of data release equivalent\")\n",
    "diff_data_release = data_release_pred_filtered - obs\n",
    "print(np.sqrt(np.nanmean(diff_data_release ** 2)))"
   ]
  },
  {
   "cell_type": "code",
   "execution_count": null,
   "id": "b18fb239-a3a5-4ea1-9603-d461f4ccce59",
   "metadata": {},
   "outputs": [],
   "source": [
    "#investigate Statistics_basinnorm.json and how it is created\n",
    "attr = pd.read_feather('scratch/SNTemp/Forcing/attr_new/attr_temp99%_days_99sites_newv1.feather')\n"
   ]
  },
  {
   "cell_type": "code",
   "execution_count": null,
   "id": "0616355d-17bf-4ec9-953d-afb8e4d66189",
   "metadata": {},
   "outputs": [],
   "source": [
    "attr"
   ]
  },
  {
   "cell_type": "code",
   "execution_count": null,
   "id": "90d521c7-d67d-469d-b8a2-50a160886ab4",
   "metadata": {},
   "outputs": [],
   "source": [
    "import os\n",
    "os.environ['PROJ_LIB'] = r'/root/miniconda3/share/proj/'\n",
    "from mpl_toolkits import basemap"
   ]
  }
 ],
 "metadata": {
  "kernelspec": {
   "display_name": "lstm_resdag",
   "language": "python",
   "name": "lstm_resdag"
  },
  "language_info": {
   "codemirror_mode": {
    "name": "ipython",
    "version": 3
   },
   "file_extension": ".py",
   "mimetype": "text/x-python",
   "name": "python",
   "nbconvert_exporter": "python",
   "pygments_lexer": "ipython3",
   "version": "3.7.10"
  }
 },
 "nbformat": 4,
 "nbformat_minor": 5
}
